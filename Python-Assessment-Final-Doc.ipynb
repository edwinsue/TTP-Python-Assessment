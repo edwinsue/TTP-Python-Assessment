{
 "cells": [
  {
   "cell_type": "code",
   "execution_count": 9,
   "metadata": {},
   "outputs": [
    {
     "name": "stdout",
     "output_type": "stream",
     "text": [
      "18\n"
     ]
    }
   ],
   "source": [
    "#1 Write a function called 'addBetween'. Given 2 integers, \"addBetween\" returns the sum of all numbers between the two\n",
    "# given integers, beginning at num1, and excluding num2.\n",
    "\n",
    "#If num2 is not greater than num1, the function should return 0.\n",
    "\n",
    "def addBetween(x,y):\n",
    "    if y <= x:\n",
    "        return 0\n",
    "    else:\n",
    "        tsum = 0\n",
    "        for n in range(x,y):\n",
    "            tsum += n\n",
    "        return tsum\n",
    "    \n",
    "output = addBetween(3, 7)\n",
    "print(output) "
   ]
  },
  {
   "cell_type": "code",
   "execution_count": 14,
   "metadata": {},
   "outputs": [
    {
     "name": "stdout",
     "output_type": "stream",
     "text": [
      "['a', 'b', 'c', 'd', 'e', 'f', 'g']\n"
     ]
    }
   ],
   "source": [
    "#2. Write a function called 'combine'. Given two lists, combine returns a new list with all elements \n",
    "# of both lists sorted.\n",
    "\n",
    "def combine(lst1,lst2):\n",
    "    lst3 = lst1 + lst2\n",
    "    print(sorted(lst3))\n",
    "    \n",
    "lst1 = ['b', 'c','a','f']\n",
    "lst2 = ['d','e','g']\n",
    "\n",
    "combine(lst1,lst2)"
   ]
  },
  {
   "cell_type": "code",
   "execution_count": 24,
   "metadata": {},
   "outputs": [
    {
     "name": "stdout",
     "output_type": "stream",
     "text": [
      "{1: 'cat', 2: 'dog', 3: 'parrot', 4: 'raptor', 5: 'snake'}\n"
     ]
    }
   ],
   "source": [
    "#3 Write a function called 'switch'. Given a dictionary, the function switch returns a new dictionary with the keys \n",
    "# and values reversed\n",
    "\n",
    "def switch(d):\n",
    "    ds = {}\n",
    "    for k,v in d.items():\n",
    "        ds[v] = k\n",
    "    return ds\n",
    "    \n",
    "    \n",
    "d = {'cat': 1, 'dog':2, 'parrot':3, 'raptor':4, 'snake':5}\n",
    "output = switch(d)\n",
    "print(output) # -> {1:'cat', 2:'dog', 3:'parrot', 4:'raptor', 5:'snake'}"
   ]
  },
  {
   "cell_type": "code",
   "execution_count": 33,
   "metadata": {},
   "outputs": [
    {
     "name": "stdout",
     "output_type": "stream",
     "text": [
      "True\n"
     ]
    }
   ],
   "source": [
    "#4 Write a function called 'isSameLength'. Given two words, \"isSameLength\" returns whether the given words have the \n",
    "# same length.\n",
    "\n",
    "def isSameLength(x,y):\n",
    "    if len(x) == len(y):\n",
    "        return True \n",
    "    else:\n",
    "        return False\n",
    "    \n",
    "output = isSameLength('words', 'super')\n",
    "print(output) #->True"
   ]
  },
  {
   "cell_type": "code",
   "execution_count": 73,
   "metadata": {},
   "outputs": [
    {
     "name": "stdout",
     "output_type": "stream",
     "text": [
      "[['This', 'was', 'a', 'sentence'], ['And', \"it's\", 'now', 'a', 'list']]\n"
     ]
    }
   ],
   "source": [
    "#5. Write a function called 'stringToWords'. Given a string with two sentences, stringToWords separate the sentences \n",
    "#into two lists of words, one for each sentence.\n",
    "\n",
    "def stringToWords(s1):\n",
    "    s2 = s1.rsplit(\".\")\n",
    "    s3 = s2[0].rsplit()\n",
    "    s4 = s2[1].rsplit()\n",
    "    s5 = []\n",
    "    s5.append(s3)\n",
    "    s5.append(s4)\n",
    "    return s5\n",
    "\n",
    "s1 = \"This was a sentence. And it's now a list.\"\n",
    "output = stringToWords(s1)\n",
    "print(output) #->  ['This', 'was', 'a', 'sentence'],['And', \"it's\", 'now', 'a', 'list']"
   ]
  },
  {
   "cell_type": "code",
   "execution_count": 86,
   "metadata": {},
   "outputs": [
    {
     "name": "stdout",
     "output_type": "stream",
     "text": [
      "['Small', 'Big', 'Small', 'Six', 'Big']\n"
     ]
    }
   ],
   "source": [
    "#6 Write a function called 'bigSixSmall'.\n",
    "\n",
    "# Given a list of numbers, bigSixSmall returns a new list:\n",
    "#if the number from the list is > 6, the new list should have \"Big\" in it\n",
    "#if the number from the list is 6, the new list should have \"Six\" in it\n",
    "#if the number from the list is < 6, the list should say \"Small\"\n",
    "\n",
    "def bigSixSmall(list1):\n",
    "    numbers = [int(e) for e in list1]\n",
    "    for i,n in enumerate(numbers):\n",
    "        if n > 6:\n",
    "            numbers[i] = \"Big\"\n",
    "        if n == 6:\n",
    "            numbers[i] = \"Six\"\n",
    "        if n < 6:\n",
    "            numbers[i] = \"Small\"\n",
    "    return numbers\n",
    "    \n",
    "list1 = [1,7,2,6,13]\n",
    "\n",
    "output = bigSixSmall(list1)\n",
    "print(output)  #-> ['Small', 'Big', 'Small', 'Six', 'Big' ] "
   ]
  },
  {
   "cell_type": "code",
   "execution_count": 92,
   "metadata": {},
   "outputs": [
    {
     "name": "stdout",
     "output_type": "stream",
     "text": [
      "{'a': 1, 'c': 3}\n",
      "{'a': 1, 'b': 2, 'c': 3, 'd': 4}\n"
     ]
    }
   ],
   "source": [
    "#7. Write a function called 'select'.\n",
    "\n",
    "#Given list and a dictionary, \"select\" returns a new dictionary\n",
    "#whose keys are those in the given dictionary which are present \n",
    "#in the given list.\n",
    "\n",
    "#Notes:\n",
    "\n",
    "#If keys are present in the given list, but are not in the given dictionary, it should ignore them.\n",
    "#It does not modify the passed in dictionary.\n",
    "\n",
    "def select(il, id):\n",
    "    od = {}\n",
    "    for k in id:\n",
    "        if k in il:\n",
    "            od[k] = id[k]\n",
    "        else:\n",
    "            pass\n",
    "    return od\n",
    "\n",
    "il = ['a', 'c', 'e']\n",
    "id = {'a': 1, 'b': 2, 'c': 3, 'd': 4}\n",
    "\n",
    "output = select(il, id)\n",
    "print(output) # --> {'a': 1, 'c': 3}\n",
    "print(id) # --> {'a': 1, 'b': 2, 'c': 3, 'd': 4}"
   ]
  },
  {
   "cell_type": "code",
   "execution_count": 95,
   "metadata": {},
   "outputs": [
    {
     "name": "stdout",
     "output_type": "stream",
     "text": [
      "{3: False, 6: True, 9: False, 12: True, 15: False}\n"
     ]
    }
   ],
   "source": [
    "#8. Write a function called 'to_dictionary' that takes in a list of numbers as input and returns a dictionary.\n",
    "\n",
    "#The keys should be each number from the input list and the values should be \n",
    "#True if the number is even \n",
    "#or False if the number is odd\n",
    "\n",
    "def to_dictionary(lst):\n",
    "    new_dict = {}\n",
    "    for n in lst:\n",
    "        if n%2==0:\n",
    "            new_dict[n] = True\n",
    "        else:\n",
    "            new_dict[n] = False\n",
    "    return new_dict\n",
    "\n",
    "lst = [3,6,9,12,15]\n",
    "output = to_dictionary(lst)\n",
    "print(output) #-->  {3:False, 6:True, 9:False, 12:True, 15:False}"
   ]
  }
 ],
 "metadata": {
  "kernelspec": {
   "display_name": "Python 3",
   "language": "python",
   "name": "python3"
  },
  "language_info": {
   "codemirror_mode": {
    "name": "ipython",
    "version": 3
   },
   "file_extension": ".py",
   "mimetype": "text/x-python",
   "name": "python",
   "nbconvert_exporter": "python",
   "pygments_lexer": "ipython3",
   "version": "3.7.3"
  }
 },
 "nbformat": 4,
 "nbformat_minor": 2
}
